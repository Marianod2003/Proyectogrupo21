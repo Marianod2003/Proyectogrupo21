{
  "nbformat": 4,
  "nbformat_minor": 0,
  "metadata": {
    "colab": {
      "provenance": []
    },
    "kernelspec": {
      "name": "python3",
      "display_name": "Python 3"
    },
    "language_info": {
      "name": "python"
    }
  },
  "cells": [
    {
      "cell_type": "code",
      "source": [
        "import pandas as pd\n",
        "import numpy as np\n",
        "import matplotlib.pyplot as plt\n",
        "from sklearn.model_selection import train_test_split\n",
        "from sklearn.linear_model import LinearRegression\n",
        "from sklearn.metrics import mean_squared_error, r2_score"
      ],
      "metadata": {
        "id": "EEoRSmbs9yO1"
      },
      "execution_count": 27,
      "outputs": []
    },
    {
      "cell_type": "code",
      "source": [
        "# Cargar los datos desde un archivo CSV\n",
        "data1 = pd.read_csv('/content/estimaciones-agricolas-2020-08.csv')"
      ],
      "metadata": {
        "id": "OofdNvyg-fEC"
      },
      "execution_count": null,
      "outputs": []
    },
    {
      "cell_type": "code",
      "source": [
        "print(data1)"
      ],
      "metadata": {
        "id": "ZTTaWk_pNjMr"
      },
      "execution_count": null,
      "outputs": []
    },
    {
      "cell_type": "code",
      "source": [
        "print(data1.head())"
      ],
      "metadata": {
        "id": "vhBnnODZNei9",
        "colab": {
          "base_uri": "https://localhost:8080/"
        },
        "outputId": "7a4615bc-413d-41b8-8b40-672e38aa2d07"
      },
      "execution_count": 8,
      "outputs": [
        {
          "output_type": "stream",
          "name": "stdout",
          "text": [
            "   id_provincia     provincia  id_departamento            departamento  \\\n",
            "0             6  Buenos Aires              854              25 de Mayo   \n",
            "1             6  Buenos Aires              854              25 de Mayo   \n",
            "2             6  Buenos Aires               14  Adolfo Gonzales Chaves   \n",
            "3             6  Buenos Aires               14  Adolfo Gonzales Chaves   \n",
            "4             6  Buenos Aires               14  Adolfo Gonzales Chaves   \n",
            "\n",
            "   id_cultivo cultivo  id_campa�a    campa�a  sup_sembrada  sup_cosechada  \\\n",
            "0           1     Ajo           1  1969/1970             3              3   \n",
            "1           1     Ajo           2  1970/1971             1              1   \n",
            "2           1     Ajo           1  1969/1970            15             15   \n",
            "3           1     Ajo           2  1970/1971            10             10   \n",
            "4           1     Ajo           3  1971/1972             8              8   \n",
            "\n",
            "   produccion   rendimiento  \n",
            "0           10         3333  \n",
            "1            3         3000  \n",
            "2           82         5467  \n",
            "3           55         5500  \n",
            "4           44         5500  \n"
          ]
        }
      ]
    },
    {
      "cell_type": "code",
      "source": [
        "# Filtrar las filas donde la columna \"cultivo\" contiene \"Arroz\"\n",
        "arroz_data = data1[data1['cultivo'].str.contains('Arroz', case=False)]\n",
        "\n",
        "# Mostrar los datos de cultivo de arroz\n",
        "print(arroz_data)\n"
      ],
      "metadata": {
        "id": "sVB8V7vuLIUs",
        "colab": {
          "base_uri": "https://localhost:8080/"
        },
        "outputId": "2a0cb284-30d3-4219-ce96-9285159b11ac"
      },
      "execution_count": 19,
      "outputs": [
        {
          "output_type": "stream",
          "name": "stdout",
          "text": [
            "       id_provincia provincia  id_departamento     departamento  id_cultivo  \\\n",
            "10142            22     Chaco              126        1 de Mayo           4   \n",
            "10143            22     Chaco              126        1 de Mayo           4   \n",
            "10144            22     Chaco                7  Almirante Brown           4   \n",
            "10145            22     Chaco                7  Almirante Brown           4   \n",
            "10146            22     Chaco                7  Almirante Brown           4   \n",
            "...             ...       ...              ...              ...         ...   \n",
            "12024            90   Tucuman               77        Rio Chico           4   \n",
            "12025            90   Tucuman               77        Rio Chico           4   \n",
            "12026            90   Tucuman               77        Rio Chico           4   \n",
            "12027            90   Tucuman               77        Rio Chico           4   \n",
            "12028            90   Tucuman               77        Rio Chico           4   \n",
            "\n",
            "      cultivo  id_campa�a    campa�a  sup_sembrada  sup_cosechada  \\\n",
            "10142   Arroz          14  1982/1983           600            300   \n",
            "10143   Arroz          17  1985/1986           400            400   \n",
            "10144   Arroz          15  1983/1984          3100           3100   \n",
            "10145   Arroz          16  1984/1985          3000           3000   \n",
            "10146   Arroz          21  1989/1990          3000           1500   \n",
            "...       ...         ...        ...           ...            ...   \n",
            "12024   Arroz           2  1970/1971          1000           1000   \n",
            "12025   Arroz           3  1971/1972           400            200   \n",
            "12026   Arroz           5  1973/1974            30             30   \n",
            "12027   Arroz           6  1974/1975             1              1   \n",
            "12028   Arroz           7  1975/1976             1              1   \n",
            "\n",
            "       produccion   rendimiento  \n",
            "10142          700         2333  \n",
            "10143         1300         3250  \n",
            "10144         9180         2961  \n",
            "10145         8720         2907  \n",
            "10146         6000         4000  \n",
            "...            ...          ...  \n",
            "12024         2600         2600  \n",
            "12025          370         1850  \n",
            "12026           90         3000  \n",
            "12027            3         3000  \n",
            "12028            3         3000  \n",
            "\n",
            "[1887 rows x 12 columns]\n"
          ]
        }
      ]
    },
    {
      "cell_type": "code",
      "source": [
        "arroz_data1 = arroz_data"
      ],
      "metadata": {
        "id": "waSoIYF_TKa_"
      },
      "execution_count": 20,
      "outputs": []
    },
    {
      "cell_type": "code",
      "source": [
        "# Agrupa los datos por provincia y cuenta la cantidad de registros (cultivo de arroz) en cada provincia\n",
        "cultivo_por_provincia = arroz_data1['provincia'].value_counts()\n",
        "\n",
        "# Crea un gráfico de barras\n",
        "fig, ax = plt.subplots(figsize=(12, 6))\n",
        "\n",
        "cultivo_por_provincia.plot(kind='bar', ax=ax)\n",
        "\n",
        "ax.set_xticklabels(cultivo_por_provincia.index, rotation=45, ha='right')\n",
        "\n",
        "plt.xlabel('Provincia')\n",
        "plt.ylabel('Cantidad de Cultivo de Arroz')\n",
        "plt.title('Cantidad de Cultivo de Arroz por Provincia en Argentina')\n",
        "\n",
        "plt.tight_layout()\n",
        "plt.show()\n"
      ],
      "metadata": {
        "colab": {
          "base_uri": "https://localhost:8080/",
          "height": 385
        },
        "id": "RCW92K5aYQ1o",
        "outputId": "fdf5b2a9-31bd-41c6-c9d0-975e5d6f02ce"
      },
      "execution_count": 28,
      "outputs": [
        {
          "output_type": "display_data",
          "data": {
            "text/plain": [
              "<Figure size 1200x600 with 1 Axes>"
            ],
            "image/png": "[encoded data removed]"
          },
          "metadata": {}
        }
      ]
    },
    {
      "cell_type": "code",
      "source": [
        "# Definir las variables predictoras (features) y la variable objetivo (target)\n",
        "X = arroz_data[['sup_sembrada', 'sup_cosechada']]\n",
        "y = arroz_data['rendimiento']\n",
        "\n",
        "# Crear un modelo de regresión lineal\n",
        "model = LinearRegression()\n",
        "\n",
        "# Entrenar el modelo con los datos de arroz_data\n",
        "model.fit(X, y)\n",
        "\n",
        "# Pronóstico para futuros valores\n",
        "new_data = pd.DataFrame({'sup_sembrada': [10000, 15000], 'sup_cosechada': [5000, 7500]})\n",
        "future_predictions = model.predict(new_data)\n",
        "print(\"Pronóstico para nuevas observaciones:\")\n",
        "for i, prediction in enumerate(future_predictions):\n",
        "    print(f\"Cultivo {i+1}: Rendimiento estimado = {prediction}\")"
      ],
      "metadata": {
        "colab": {
          "base_uri": "https://localhost:8080/"
        },
        "id": "eR4ly40LQgYB",
        "outputId": "573f078c-3522-4e54-ec55-d20e2de4b990"
      },
      "execution_count": 21,
      "outputs": [
        {
          "output_type": "stream",
          "name": "stdout",
          "text": [
            "Pronóstico para nuevas observaciones:\n",
            "Cultivo 1: Rendimiento estimado = 2375.438591169273\n",
            "Cultivo 2: Rendimiento estimado = 1481.701689495003\n"
          ]
        }
      ]
    },
    {
      "cell_type": "code",
      "source": [
        "# Generar datos ficticios para las nuevas columnas\n",
        "n_filas = len(arroz_data1)\n",
        "\n",
        "# Generar datos de temperatura promedio (ejemplo: entre 20 y 35 grados Celsius)\n",
        "temperatura_promedio = np.random.uniform(20, 35, n_filas)\n",
        "\n",
        "# Generar datos de precipitación (ejemplo: entre 50 mm y 150 mm)\n",
        "precipitacion = np.random.uniform(50, 150, n_filas)\n",
        "\n",
        "# Generar datos de humedad del suelo (ejemplo: entre 10% y 30%)\n",
        "humedad_suelo = np.random.uniform(10, 30, n_filas)\n",
        "\n",
        "# Generar datos de fertilizantes (ejemplo: entre 400 kg/ha y 800 kg/ha)\n",
        "fertilizantes = np.random.uniform(400, 800, n_filas)\n",
        "\n",
        "# Agregar las nuevas columnas al DataFrame arroz_data\n",
        "arroz_data1['temperatura_promedio'] = temperatura_promedio\n",
        "arroz_data1['precipitacion'] = precipitacion\n",
        "arroz_data1['humedad_suelo'] = humedad_suelo\n",
        "arroz_data1['fertilizantes'] = fertilizantes\n"
      ],
      "metadata": {
        "id": "YQBO7uQlTCLQ"
      },
      "execution_count": null,
      "outputs": []
    },
    {
      "cell_type": "code",
      "source": [
        "# Definir las variables predictoras (features) y la variable objetivo (target)\n",
        "X = arroz_data1[['sup_sembrada', 'sup_cosechada', 'temperatura_promedio', 'precipitacion', 'humedad_suelo', 'fertilizantes']]  # Agrega las variables predictoras que desees\n",
        "y = arroz_data1['rendimiento']\n",
        "\n",
        "# Crear un modelo de regresión lineal\n",
        "model = LinearRegression()\n",
        "\n",
        "# Entrenar el modelo con los datos de arroz_data\n",
        "model.fit(X, y)\n",
        "\n",
        "# Pronóstico para futuros valores\n",
        "new_data = pd.DataFrame({\n",
        "    'sup_sembrada': [10000, 15000],\n",
        "    'sup_cosechada': [5000, 7500],\n",
        "    'temperatura_promedio': [25, 30],\n",
        "    'precipitacion': [100, 150],\n",
        "    'humedad_suelo': [20, 25],\n",
        "    'fertilizantes': [500, 600]\n",
        "})\n",
        "future_predictions = model.predict(new_data)\n",
        "print(\"Pronóstico para nuevas observaciones:\")\n",
        "for i, prediction in enumerate(future_predictions):\n",
        "    print(f\"Cultivo {i+1}: Rendimiento estimado = {prediction}\")\n"
      ],
      "metadata": {
        "colab": {
          "base_uri": "https://localhost:8080/"
        },
        "id": "-_p_o3TaUKVi",
        "outputId": "eaf2d119-0318-4ba5-ba78-be8976727eda"
      },
      "execution_count": 24,
      "outputs": [
        {
          "output_type": "stream",
          "name": "stdout",
          "text": [
            "Pronóstico para nuevas observaciones:\n",
            "Cultivo 1: Rendimiento estimado = 2330.2527349950738\n",
            "Cultivo 2: Rendimiento estimado = 1586.23508947469\n"
          ]
        }
      ]
    }
  ]
}